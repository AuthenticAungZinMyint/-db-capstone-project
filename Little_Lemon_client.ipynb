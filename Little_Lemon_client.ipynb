{
 "cells": [
  {
   "cell_type": "code",
   "execution_count": 1,
   "metadata": {},
   "outputs": [
    {
     "name": "stdout",
     "output_type": "stream",
     "text": [
      "Connection between MySQL and Python is established.\n",
      "\n"
     ]
    }
   ],
   "source": [
    "# Set up database connection\n",
    "# Establishing connection between Python and MySQL database via connector API\n",
    "import mysql.connector as connector\n",
    "from mysql.connector import Error\n",
    "from dotenv.main import load_dotenv\n",
    "import os\n",
    "\n",
    "# Load environment variables from .env file\n",
    "load_dotenv()\n",
    "\n",
    "try:\n",
    "    connection = connector.connect(\n",
    "        user=os.getenv('DB_USER'),\n",
    "        password=os.getenv('DB_PASSWORD')\n",
    "    )\n",
    "except Error as er:\n",
    "    print(er.msg)\n",
    "\n",
    "print(\"Connection between MySQL and Python is established.\\n\")\n"
   ]
  },
  {
   "cell_type": "code",
   "execution_count": 2,
   "metadata": {},
   "outputs": [
    {
     "name": "stdout",
     "output_type": "stream",
     "text": [
      "Cursor is created to communicate with the MySQL using Python.\n"
     ]
    }
   ],
   "source": [
    "# Creating cursor object to communicate with entire MySQL database\n",
    "\n",
    "cursor = connection.cursor()\n",
    "print(\"Cursor is created to communicate with the MySQL using Python.\")"
   ]
  },
  {
   "cell_type": "code",
   "execution_count": 3,
   "metadata": {},
   "outputs": [
    {
     "name": "stdout",
     "output_type": "stream",
     "text": [
      "The database LittleLemonDB is set for use.\n",
      "('Tables_in_littlelemondb',)\n",
      "('bookings',)\n",
      "('customers',)\n",
      "('menu_items',)\n",
      "('order_delivery_status',)\n",
      "('order_details',)\n",
      "('orders',)\n",
      "('ordersview',)\n",
      "('staff',)\n"
     ]
    }
   ],
   "source": [
    "#Task2 show tables in little lemon databases\n",
    "# Set LittleLemonDB database for use\n",
    "cursor.execute(\"USE LittleLemonDB\")\n",
    "cursor.fetchall()  # Added to consume the results\n",
    "print(\"The database LittleLemonDB is set for use.\")\n",
    "\n",
    "show_tables_query = \"SHOW TABLES;\" \n",
    "cursor.execute(show_tables_query)\n",
    "results = cursor.fetchall()\n",
    "columns = cursor.column_names\n",
    "\n",
    "print(columns)\n",
    "for result in results:\n",
    "    print(result)"
   ]
  },
  {
   "cell_type": "code",
   "execution_count": 4,
   "metadata": {},
   "outputs": [],
   "source": [
    "join_query = \"\"\"SELECT\n",
    "    CONCAT(C.FirstName, ' ', C.LastName) AS CustomerFullName,\n",
    "    C.PhoneNumber,\n",
    "    C.Email,\n",
    "    O.TotalAmount\n",
    "FROM\n",
    "    Customers AS C\n",
    "JOIN\n",
    "    Orders AS O\n",
    "    ON C.CustomerID = O.CustomerID\n",
    "WHERE\n",
    "    O.TotalAmount > 60\n",
    "ORDER BY\n",
    "    O.TotalAmount DESC;\"\"\""
   ]
  },
  {
   "cell_type": "code",
   "execution_count": 5,
   "metadata": {},
   "outputs": [
    {
     "name": "stdout",
     "output_type": "stream",
     "text": [
      "Columns: ('CustomerFullName', 'PhoneNumber', 'Email', 'TotalAmount')\n",
      "\n",
      "Results:\n",
      "--------------------------------------------------------------------------------\n",
      "('Bella Ward', '888-333-2222', 'bella.ward@email.com', Decimal('140.00'))\n",
      "('Quinn Hall', '222-888-7777', 'quinn.hall@email.com', Decimal('130.00'))\n",
      "('Laura White', '000-111-2222', 'laura.white@email.com', Decimal('110.00'))\n",
      "('Victor Nelson', '666-111-0000', 'victor.nelson@email.com', Decimal('100.00'))\n",
      "('George Moore', '222-333-4444', 'george.moore@email.com', Decimal('90.50'))\n",
      "('Samuel Adams', '333-999-6666', 'samuel.adams@email.com', Decimal('80.00'))\n",
      "('Zachary Ross', '444-000-3333', 'zachary.ross@email.com', Decimal('78.00'))\n",
      "('Bob Johnson', '987-654-3210', 'bob.johnson@email.com', Decimal('75.00'))\n",
      "('Nancy Martin', '111-999-8888', 'nancy.martin@email.com', Decimal('70.00'))\n",
      "('Xavier Reed', '555-000-9999', 'xavier.reed@email.com', Decimal('65.00'))\n",
      "('Ian Anderson', '333-444-5555', 'ian.anderson@email.com', Decimal('60.75'))\n"
     ]
    }
   ],
   "source": [
    "#Task 3 join customer and order total amount\n",
    "# Execute the join query\n",
    "cursor.execute(join_query)\n",
    "\n",
    "# Fetch all results\n",
    "results = cursor.fetchall()\n",
    "\n",
    "# Get column names\n",
    "columns = cursor.column_names\n",
    "\n",
    "# Print column names\n",
    "print(\"Columns:\", columns)\n",
    "print(\"\\nResults:\")\n",
    "print(\"-\" * 80)\n",
    "\n",
    "# Print each row\n",
    "for row in results:\n",
    "    print(row)"
   ]
  },
  {
   "cell_type": "code",
   "execution_count": null,
   "metadata": {},
   "outputs": [],
   "source": []
  }
 ],
 "metadata": {
  "kernelspec": {
   "display_name": ".venv",
   "language": "python",
   "name": "python3"
  },
  "language_info": {
   "codemirror_mode": {
    "name": "ipython",
    "version": 3
   },
   "file_extension": ".py",
   "mimetype": "text/x-python",
   "name": "python",
   "nbconvert_exporter": "python",
   "pygments_lexer": "ipython3",
   "version": "3.12.3"
  }
 },
 "nbformat": 4,
 "nbformat_minor": 2
}
